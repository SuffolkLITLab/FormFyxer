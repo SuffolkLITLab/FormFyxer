{
 "cells": [
  {
   "cell_type": "markdown",
   "id": "a4b03ce7",
   "metadata": {},
   "source": [
    "## Load local copy of package"
   ]
  },
  {
   "cell_type": "code",
   "execution_count": null,
   "id": "064702eb",
   "metadata": {},
   "outputs": [],
   "source": [
    "#!pip install update openai"
   ]
  },
  {
   "cell_type": "code",
   "execution_count": 1,
   "id": "10339cb6",
   "metadata": {},
   "outputs": [],
   "source": [
    "import sys\n",
    "\n",
    "sys.path.insert(0, \"../../formfyxer\")\n",
    "import formfyxer.lit_explorer as ff"
   ]
  },
  {
   "cell_type": "code",
   "execution_count": 2,
   "id": "8bba1e11",
   "metadata": {},
   "outputs": [],
   "source": [
    "tools_token=\"your token here\""
   ]
  },
  {
   "cell_type": "markdown",
   "id": "d03ccf52",
   "metadata": {},
   "source": [
    "## Or update and load published package"
   ]
  },
  {
   "cell_type": "code",
   "execution_count": null,
   "id": "cba69e39",
   "metadata": {
    "scrolled": true
   },
   "outputs": [],
   "source": [
    "!pip install git+https://github.com/SuffolkLITLab/FormFyxer"
   ]
  },
  {
   "cell_type": "code",
   "execution_count": null,
   "id": "49f405bd",
   "metadata": {},
   "outputs": [],
   "source": [
    "import formfyxer as ff"
   ]
  },
  {
   "cell_type": "markdown",
   "id": "9f501487",
   "metadata": {},
   "source": [
    "## Test functions"
   ]
  },
  {
   "cell_type": "code",
   "execution_count": 3,
   "id": "f1524626",
   "metadata": {},
   "outputs": [
    {
     "data": {
      "text/plain": [
       "'Reformat snake case, camel Case and similarly formated text into individual words.'"
      ]
     },
     "execution_count": 3,
     "metadata": {},
     "output_type": "execute_result"
    }
   ],
   "source": [
    "ff.re_case(\n",
    "    \"Reformat snake_case, camelCase and similarly-formated text into individual words.\"\n",
    ")"
   ]
  },
  {
   "cell_type": "code",
   "execution_count": 4,
   "id": "45ee2f7d",
   "metadata": {},
   "outputs": [
    {
     "data": {
      "text/plain": [
       "'users1_name'"
      ]
     },
     "execution_count": 4,
     "metadata": {},
     "output_type": "execute_result"
    }
   ],
   "source": [
    "ff.regex_norm_field(\"your name\")"
   ]
  },
  {
   "cell_type": "code",
   "execution_count": 5,
   "id": "8d056f9c",
   "metadata": {},
   "outputs": [
    {
     "data": {
      "text/plain": [
       "'variable_fill_name'"
      ]
     },
     "execution_count": 5,
     "metadata": {},
     "output_type": "execute_result"
    }
   ],
   "source": [
    "ff.reformat_field(\"this is a variable where you fill out your name\", tools_token=tools_token)"
   ]
  },
  {
   "cell_type": "code",
   "execution_count": 6,
   "id": "6bd4f593",
   "metadata": {},
   "outputs": [
    {
     "data": {
      "text/plain": [
       "('case_number', 0.5)"
      ]
     },
     "execution_count": 6,
     "metadata": {},
     "output_type": "execute_result"
    }
   ],
   "source": [
    "ff.normalize_name(\"UT\", None, 2, 0.3, \"null\", \"Case Number\", tools_token=tools_token)"
   ]
  },
  {
   "cell_type": "code",
   "execution_count": 7,
   "id": "30a1f1b6",
   "metadata": {},
   "outputs": [
    {
     "data": {
      "text/plain": [
       "\"Approved, SCAO\\n\\nSTATE OF MICHIGAN\\n\\nJUDICIAL CIRCUIT\\nCOUNTY\\n\\nOriginal - Court\\n1st copy - Moving party\\n2nd copy - Objecting party\\n\\n3rd copy - Friend of the court\\n4th copy - Proof of service\\n5th copy - Proof of service\\n\\nA\\n\\nCASE NO.\\n\\nOBJECTION TO PROPOSED ORDER\\n\\nCourt  address\\n\\nCourt  telephone  no.\\n\\nPlaintiff's name, address, and telephone no.\\n\\nmoving party\\n\\nDefendant's name, address, and telephone no.\\n\\nmoving party\\n\\nv\\n\\nThird party's name, address, and telephone no.\\n\\nmoving party\\n\\nI received a notice to enter a proposed order without a hearing dated\\nI object to the entry of the proposed order and request a hearing by the court.  My objection is based on the following reason(s):\\n\\nC\\n\\nMoving party's signature\\n\\nName (type or print)\\n\\nCERTIFICATE OF MAILING\\n\\nSignature of objecting party\\n\\nI certify that on this date I served a copy of this objection on the parties or their attorneys by first-class mail addressed to their\\nlast-known addresses as defined in MCR 3.203.\\n\\nFOC 78   (3/11)   OBJECTION TO PROPOSED ORDER\\n\\nMCR 2.602(B)\\n\\nB\\n\\nD\\n\\nE\\n\\nDate\\n\\nF\\n\\nDate\\n\\n\\x0c\""
      ]
     },
     "execution_count": 7,
     "metadata": {},
     "output_type": "execute_result"
    }
   ],
   "source": [
    "ff.extract_text(\"ML_training/auto/095b9dc651ce47eb8b62e0790974970f.pdf\")"
   ]
  },
  {
   "cell_type": "code",
   "execution_count": null,
   "id": "98d71551",
   "metadata": {},
   "outputs": [],
   "source": [
    "ff.guess_form_name(\n",
    "    ff.extract_text(\"ML_training/auto/095b9dc651ce47eb8b62e0790974970f.pdf\")\n",
    ")"
   ]
  },
  {
   "cell_type": "code",
   "execution_count": 8,
   "id": "f6dc060a",
   "metadata": {
    "scrolled": true
   },
   "outputs": [
    {
     "data": {
      "text/plain": [
       "array([ 3.91383841e-02,  3.74705766e-02, -9.98597692e-02, -1.14338996e-02,\n",
       "       -6.12632310e-02,  2.95500084e-02, -2.66791423e-02,  6.50028908e-02,\n",
       "       -6.16411376e-02,  9.50854852e-02,  8.02389349e-02,  4.57129042e-02,\n",
       "       -7.21761292e-02,  2.12103883e-02,  2.60794196e-02, -5.79980208e-02,\n",
       "        3.39355434e-02, -1.45301236e-01, -1.40438473e-02, -1.77644619e-02,\n",
       "        6.08872548e-02, -8.12713371e-03,  4.68537477e-02, -1.70541425e-01,\n",
       "        2.78735315e-03, -1.73112623e-02, -5.30503220e-02, -1.42496522e-02,\n",
       "       -3.72042910e-02,  5.15232772e-02,  6.30143224e-03, -2.32950673e-02,\n",
       "        1.36063259e-02,  8.02463305e-03, -4.58777597e-02,  1.99661904e-02,\n",
       "        7.51623300e-03,  1.40369367e-02,  1.24910958e-01,  4.21865796e-02,\n",
       "        1.89100541e-02,  4.91487659e-02,  2.90375418e-02, -5.07765084e-02,\n",
       "        7.18243904e-02, -1.36731515e-02, -7.70340021e-02, -8.17896095e-02,\n",
       "       -7.15626294e-02,  8.07250205e-02,  7.19660570e-02,  4.14691387e-04,\n",
       "        1.60426911e-02, -2.17340353e-02, -1.42326794e-02, -4.22379647e-02,\n",
       "        1.66823158e-02, -2.32781741e-02, -1.50226035e-02,  8.03480448e-02,\n",
       "        6.81939680e-02, -2.97557149e-04, -4.91235781e-02,  1.16956606e-02,\n",
       "       -4.82142564e-02, -3.87721087e-02, -3.67756289e-02, -6.40971947e-02,\n",
       "       -3.71515635e-02,  2.76598092e-02, -1.60082898e-02,  5.59147332e-03,\n",
       "       -1.73792341e-03,  5.69810198e-02,  8.02767828e-02, -4.97736814e-02,\n",
       "       -1.06713768e-03,  1.81043698e-02,  3.88915962e-03, -8.22943080e-02,\n",
       "       -8.91336366e-02,  4.47243492e-02,  1.07173469e-01, -3.98095353e-02,\n",
       "       -4.87519415e-03,  3.18890357e-02, -1.20355918e-02,  4.47714914e-02,\n",
       "       -4.44488465e-03, -2.44649153e-02,  2.67811064e-02,  1.81433961e-02,\n",
       "        3.74274618e-02, -1.04727103e-01,  2.47865595e-02,  1.54953713e-02,\n",
       "        6.03541886e-02,  3.04796724e-02,  9.08918603e-02, -7.42893988e-02,\n",
       "       -3.05412801e-02,  5.99510942e-02,  2.54322289e-02, -5.52781889e-02,\n",
       "        5.52932203e-02,  3.50736652e-02, -7.26478890e-02,  5.22613006e-02,\n",
       "       -1.19346947e-01,  1.99804159e-02, -7.50037090e-02, -3.41040122e-02,\n",
       "        7.63052288e-02,  1.11827837e-02,  3.30853258e-02,  9.51524994e-02,\n",
       "       -2.81973877e-02, -9.97181271e-02,  6.74807308e-02, -4.57862276e-03,\n",
       "       -8.98553511e-03, -2.04339829e-02, -1.12282383e-01,  6.45397883e-02,\n",
       "        3.60455450e-02,  1.39132255e-01,  7.95307930e-02,  2.28512367e-02,\n",
       "       -1.98707143e-02, -2.56168879e-02, -3.81680690e-03, -2.08723899e-02,\n",
       "        2.23600581e-02, -4.96530627e-02,  2.97667634e-02, -7.79312099e-03,\n",
       "       -3.05205262e-02, -6.89185523e-02,  1.19034747e-01, -7.71992741e-02,\n",
       "       -8.64508150e-02, -2.21449002e-02,  6.16324607e-03, -2.07479790e-02,\n",
       "       -3.14207251e-02,  8.66738486e-03, -6.96599367e-02,  4.85024400e-02,\n",
       "        4.68090748e-02, -6.46374434e-02, -1.93630798e-02,  6.16414316e-02,\n",
       "       -1.61690299e-02,  3.94988695e-03, -1.21530679e-03,  1.86681504e-02,\n",
       "        3.60062468e-02, -4.24863699e-02, -7.95422919e-02,  7.99356157e-03,\n",
       "       -2.17092988e-03, -8.46349056e-02, -6.53552420e-02,  4.19019824e-02,\n",
       "       -4.79916613e-02,  9.00222068e-03,  5.47984774e-02,  5.43282658e-02,\n",
       "       -3.87653867e-02, -5.51063125e-02,  6.56543219e-02, -1.82817789e-02,\n",
       "        3.18959438e-02,  8.40516694e-02,  1.10980336e-02, -5.28996993e-02,\n",
       "       -5.97978013e-02,  4.78927323e-02,  9.55837949e-02, -6.54040647e-02,\n",
       "        9.22715650e-03,  1.41443148e-02,  1.36193125e-01,  5.75328164e-02,\n",
       "       -3.85482391e-03, -3.80056099e-02, -7.52123889e-05, -8.76829591e-02,\n",
       "        2.11783314e-02,  3.27018682e-02, -1.10821363e-02,  1.22104691e-01,\n",
       "       -7.74100518e-02, -1.00575172e-01, -8.50201368e-02, -1.03598934e-01,\n",
       "       -3.22513915e-02,  1.17758873e-02, -1.86052309e-02,  8.06930812e-02,\n",
       "       -7.63197017e-02, -2.26206261e-02, -9.01381833e-02, -1.07591732e-01,\n",
       "       -6.97509237e-02, -1.81203419e-02,  5.07588313e-02,  7.70278313e-03,\n",
       "       -3.91934584e-02,  9.29271190e-03, -1.05789516e-02,  5.07382832e-02,\n",
       "        1.79365453e-02,  3.95959429e-02, -7.05412287e-02,  1.84834510e-02,\n",
       "       -1.11977429e-02,  5.33773923e-02, -1.09056103e-02, -5.21385718e-04,\n",
       "       -9.62118313e-02,  1.26625626e-02, -2.63540943e-03,  4.41537731e-02,\n",
       "       -2.13807875e-02, -8.90874352e-02,  3.61685473e-02,  5.59569539e-03,\n",
       "        5.50187110e-02,  2.30999628e-02, -8.18250372e-02, -9.67539810e-02,\n",
       "        1.39515574e-03, -1.30428540e-02, -1.67898715e-02,  4.19755079e-02,\n",
       "       -1.35061821e-01,  1.03066289e-01, -1.07917651e-02,  3.01890624e-03,\n",
       "       -5.92328448e-02,  4.75648831e-02,  7.45972389e-02, -9.05823814e-03,\n",
       "        1.82994498e-02,  1.16500409e-02,  7.42939271e-03, -4.46931791e-02,\n",
       "        7.42094159e-02, -5.46884169e-02, -7.03193685e-02, -9.31773872e-03,\n",
       "       -1.22923814e-01,  5.92522857e-02, -4.92985815e-03,  3.93452349e-02,\n",
       "        8.33028820e-02,  6.81241415e-02, -7.86093796e-02,  2.12162651e-02,\n",
       "        1.41766710e-01,  6.20479409e-02, -1.16216403e-02,  4.20055119e-02,\n",
       "        9.74765075e-02, -7.44201397e-02, -2.96288767e-02,  7.02127622e-02,\n",
       "       -4.76458459e-02,  6.80460547e-02, -6.91976046e-03, -8.56330230e-03,\n",
       "       -1.01883747e-01, -5.74692367e-02, -5.49768553e-02,  3.37755873e-02,\n",
       "       -1.31338067e-02, -1.86830728e-02,  1.30724431e-03,  4.37613545e-02,\n",
       "       -1.80811246e-01, -1.62683251e-02, -3.85157321e-02,  4.35421743e-02,\n",
       "        7.08648155e-02,  6.94852982e-03, -8.95057864e-02,  3.83461144e-02,\n",
       "       -1.50225658e-01, -4.33895281e-02,  2.95122364e-02, -8.92602069e-03,\n",
       "        1.41639198e-02, -5.44959091e-02, -6.25654612e-02, -1.61190105e-02,\n",
       "       -4.08037712e-02,  3.92387535e-02, -1.61472882e-01, -2.07773657e-02])"
      ]
     },
     "execution_count": 8,
     "metadata": {},
     "output_type": "execute_result"
    }
   ],
   "source": [
    "ff.vectorize(\"my landlord kicked me out\", tools_token=tools_token)"
   ]
  },
  {
   "cell_type": "code",
   "execution_count": 9,
   "id": "eb52b221",
   "metadata": {},
   "outputs": [
    {
     "data": {
      "text/plain": [
       "{'status': 401, 'message': 'Unauthorized token'}"
      ]
     },
     "execution_count": 9,
     "metadata": {},
     "output_type": "execute_result"
    }
   ],
   "source": [
    "ff.spot(\"my landlord kicked me out\", verbose=0)"
   ]
  },
  {
   "cell_type": "code",
   "execution_count": 11,
   "id": "de02250d",
   "metadata": {},
   "outputs": [
    {
     "data": {
      "text/plain": [
       "[('Mistakes were made.', [(9, 18)])]"
      ]
     },
     "execution_count": 11,
     "metadata": {},
     "output_type": "execute_result"
    }
   ],
   "source": [
    "ff.get_passive_sentences(\"Mistakes were made. I am happy.\", tools_token=tools_token)"
   ]
  },
  {
   "cell_type": "code",
   "execution_count": 12,
   "id": "36f0c2f8",
   "metadata": {
    "scrolled": true
   },
   "outputs": [
    {
     "data": {
      "text/plain": [
       "{'title': 'foc78.pmd',\n",
       " 'suggested title': '',\n",
       " 'description': '',\n",
       " 'category': None,\n",
       " 'pages': 1,\n",
       " 'reading grade level': 9.0,\n",
       " 'time to answer': (27.0, 5.6),\n",
       " 'list': [],\n",
       " 'avg fields per page': 17.0,\n",
       " 'fields': ['moving_party__1',\n",
       "  'moving_party__2',\n",
       "  'moving_party__3',\n",
       "  '*signature_date__1',\n",
       "  'name_type_print',\n",
       "  '*signature_date__2',\n",
       "  'cas_e',\n",
       "  'judge',\n",
       "  'circuit',\n",
       "  'county',\n",
       "  '*users1_address_line_one',\n",
       "  'telno',\n",
       "  'plaintiffs_address_telephone',\n",
       "  'defendants_address_telephone',\n",
       "  'third_partys_address_telephone',\n",
       "  'dated',\n",
       "  'reasons'],\n",
       " 'fields_conf': [0.5,\n",
       "  0.5,\n",
       "  0.5,\n",
       "  0.01,\n",
       "  0.5,\n",
       "  0.01,\n",
       "  0.5,\n",
       "  0.5,\n",
       "  0.5,\n",
       "  0.5,\n",
       "  0.01,\n",
       "  0.5,\n",
       "  0.5,\n",
       "  0.5,\n",
       "  0.5,\n",
       "  0.5,\n",
       "  0.5],\n",
       " 'fields_old': ['moving party',\n",
       "  'moving party_2',\n",
       "  'moving party_3',\n",
       "  'Date',\n",
       "  'Name type or print',\n",
       "  'Date_2',\n",
       "  'CASE NO',\n",
       "  'judge',\n",
       "  'circuit',\n",
       "  'county',\n",
       "  'address',\n",
       "  'telno',\n",
       "  'Plaintiffs name address and telephone',\n",
       "  'Defendants name address and telephone',\n",
       "  'Third partys name address and telephone',\n",
       "  'dated',\n",
       "  'reasons'],\n",
       " 'sensitive data types': {},\n",
       " 'text': \"Approved, SCAO. STATE OF MICHIGAN. JUDICIAL CIRCUIT. COUNTY. Original Court. 1st copy Moving party. 2nd copy Objecting party. 3rd copy Friend of the court. 4th copy Proof of service. 5th copy Proof of service. A. CASE NO. OBJECTION TO PROPOSED ORDER. Court address. Court telephone no. Plaintiff's name, address, and telephone no. moving party. Defendant's name, address, and telephone no. moving party. v. Third party's name, address, and telephone no. moving party. I received a notice to enter a proposed order without a hearing dated. I object to the entry of the proposed order and request a hearing by the court. My objection is based on the following reason s. C. Moving party's signature. Name type or print. CERTIFICATE OF MAILING. Signature of objecting party. I certify that on this date I served a copy of this objection on the parties or their attorneys by first class mail addressed to their. last known addresses as defined in MCR 3.203. FOC 78 3 11 OBJECTION TO PROPOSED ORDER. MCR 2.602 B. B. D. E. Date. F. Date. \",\n",
       " 'original_text': \"Approved, SCAO\\n\\nSTATE OF MICHIGAN\\n\\nJUDICIAL CIRCUIT\\nCOUNTY\\n\\nOriginal - Court\\n1st copy - Moving party\\n2nd copy - Objecting party\\n\\n3rd copy - Friend of the court\\n4th copy - Proof of service\\n5th copy - Proof of service\\n\\nA\\n\\nCASE NO.\\n\\nOBJECTION TO PROPOSED ORDER\\n\\nCourt  address\\n\\nCourt  telephone  no.\\n\\nPlaintiff's name, address, and telephone no.\\n\\nmoving party\\n\\nDefendant's name, address, and telephone no.\\n\\nmoving party\\n\\nv\\n\\nThird party's name, address, and telephone no.\\n\\nmoving party\\n\\nI received a notice to enter a proposed order without a hearing dated\\nI object to the entry of the proposed order and request a hearing by the court.  My objection is based on the following reason(s):\\n\\nC\\n\\nMoving party's signature\\n\\nName (type or print)\\n\\nCERTIFICATE OF MAILING\\n\\nSignature of objecting party\\n\\nI certify that on this date I served a copy of this objection on the parties or their attorneys by first-class mail addressed to their\\nlast-known addresses as defined in MCR 3.203.\\n\\nFOC 78   (3/11)   OBJECTION TO PROPOSED ORDER\\n\\nMCR 2.602(B)\\n\\nB\\n\\nD\\n\\nE\\n\\nDate\\n\\nF\\n\\nDate\\n\\n\\x0c\",\n",
       " 'number of sentences': 8,\n",
       " 'sentences per page': 8.0,\n",
       " 'number of passive voice sentences': 0,\n",
       " 'passive sentences': [],\n",
       " 'number of all caps words': 23,\n",
       " 'citations': [],\n",
       " 'total fields': 17,\n",
       " 'slotin percent': 0.5882352941176471,\n",
       " 'gathered percent': 0.4117647058823529,\n",
       " 'created percent': 0.0,\n",
       " 'third party percent': 0.0,\n",
       " 'passive voice percent': 0.0,\n",
       " 'citations per field': 0.0,\n",
       " 'citation count': 0,\n",
       " 'all caps percent': 0.12994350282485875,\n",
       " 'normalized characters per field': 8.570588235294121,\n",
       " 'difficult words': ['received',\n",
       "  'signature',\n",
       "  'objecting',\n",
       "  'dated',\n",
       "  'judicial',\n",
       "  \"defendant's\",\n",
       "  \"plaintiff's\",\n",
       "  'proposed',\n",
       "  'request',\n",
       "  'approved',\n",
       "  'circuit',\n",
       "  \"party's\",\n",
       "  'object',\n",
       "  'certify',\n",
       "  'objection',\n",
       "  'addresses',\n",
       "  'attorneys',\n",
       "  'entry',\n",
       "  'michigan',\n",
       "  'addressed',\n",
       "  'parties',\n",
       "  'certificate',\n",
       "  'mailing',\n",
       "  'defined',\n",
       "  'original'],\n",
       " 'difficult word count': 25,\n",
       " 'difficult word percent': 0.14124293785310735,\n",
       " 'calculation required': False,\n",
       " 'plain language suggestions': [('moving party\\n\\nI received a notice to enter a proposed order without a hearing dated\\nI object to the entry of the proposed order and request a hearing by the court.',\n",
       "   'moving party\\n\\nI received a notice to enter a proposed order without a hearing dated\\nI object to the entry of the proposed order and [ask, question, document asking for] a hearing by the court.',\n",
       "   [(132, 168)]),\n",
       "  (\"My objection is based on the following reason(s):\\n\\nC\\n\\nMoving party's signature\\n\\nName (type or print)\\n\\nCERTIFICATE OF MAILING\\n\\nSignature of objecting party\\n\\nI certify that on this date I served a copy of this objection on the parties or their attorneys by first-class mail addressed to their\\nlast-known addresses as defined in MCR 3.203.\",\n",
       "   \"My objection is based on the [after, per, under] reason(s):\\n\\nC\\n\\nMoving party's signature\\n\\nName (type or print)\\n\\nCERTIFICATE OF MAILING\\n\\nSignature of objecting party\\n\\nI certify that on this date I served a copy of this objection on the parties or their attorneys by first-class mail addressed to their\\nlast-known addresses as defined in MCR 3.203.\",\n",
       "   [(29, 48)])],\n",
       " 'neutral gender suggestions': [],\n",
       " 'pdf_is_tagged': False}"
      ]
     },
     "execution_count": 12,
     "metadata": {},
     "output_type": "execute_result"
    }
   ],
   "source": [
    "stats = ff.parse_form(\n",
    "    \"ML_training/auto/095b9dc651ce47eb8b62e0790974970f.pdf\",\n",
    "    title=None,\n",
    "    jur=\"UT\",\n",
    "    cat=None,\n",
    "    normalize=1,\n",
    "    #use_spot=1,\n",
    "    rewrite=0,\n",
    "    tools_token=tools_token\n",
    ")\n",
    "stats"
   ]
  },
  {
   "cell_type": "code",
   "execution_count": 17,
   "id": "77fe2d8a",
   "metadata": {},
   "outputs": [
    {
     "data": {
      "text/plain": [
       "{'screen_0': ['users1_birthdate'],\n",
       " 'screen_1': ['users1_name',\n",
       "  'users1_address_line_one',\n",
       "  'users1_address_line_two',\n",
       "  'users1_address_city',\n",
       "  'users1_address_state',\n",
       "  'users1_address_zip',\n",
       "  'users1_phone_number',\n",
       "  'users1_email',\n",
       "  'plantiffs1_name',\n",
       "  'defendants1_name',\n",
       "  'petitioners1_name',\n",
       "  'respondents1_name'],\n",
       " 'screen_2': ['docket_number'],\n",
       " 'screen_3': ['trial_court_county'],\n",
       " 'screen_4': ['users1_signature', 'signature_date']}"
      ]
     },
     "execution_count": 17,
     "metadata": {},
     "output_type": "execute_result"
    }
   ],
   "source": [
    "fields = [\n",
    "    \"users1_name\",\n",
    "    \"users1_birthdate\",\n",
    "    \"users1_address_line_one\",\n",
    "    \"users1_address_line_two\",\n",
    "    \"users1_address_city\",\n",
    "    \"users1_address_state\",\n",
    "    \"users1_address_zip\",\n",
    "    \"users1_phone_number\",\n",
    "    \"users1_email\",\n",
    "    \"plantiffs1_name\",\n",
    "    \"defendants1_name\",\n",
    "    \"petitioners1_name\",\n",
    "    \"respondents1_name\",\n",
    "    \"docket_number\",\n",
    "    \"trial_court_county\",\n",
    "    \"users1_signature\",\n",
    "    \"signature_date\",\n",
    "]\n",
    "\n",
    "\n",
    "ff.cluster_screens(fields, damping=0.7, tools_token=tools_token)"
   ]
  },
  {
   "cell_type": "code",
   "execution_count": null,
   "id": "ca67d272",
   "metadata": {},
   "outputs": [],
   "source": []
  }
 ],
 "metadata": {
  "kernelspec": {
   "display_name": "Python 3 (ipykernel)",
   "language": "python",
   "name": "python3"
  },
  "language_info": {
   "codemirror_mode": {
    "name": "ipython",
    "version": 3
   },
   "file_extension": ".py",
   "mimetype": "text/x-python",
   "name": "python",
   "nbconvert_exporter": "python",
   "pygments_lexer": "ipython3",
   "version": "3.8.12"
  }
 },
 "nbformat": 4,
 "nbformat_minor": 5
}
